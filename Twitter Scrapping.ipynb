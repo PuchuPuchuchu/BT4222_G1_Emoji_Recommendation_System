{
 "cells": [
  {
   "cell_type": "code",
   "execution_count": 1,
   "id": "0d8671d9",
   "metadata": {},
   "outputs": [],
   "source": [
    "import pandas as pd\n",
    "import numpy as np\n",
    "from tqdm.notebook import tqdm \n",
    "import snscrape.modules.twitter as sntwitter\n",
    "import emoji"
   ]
  },
  {
   "cell_type": "code",
   "execution_count": 2,
   "id": "c85e28a2",
   "metadata": {},
   "outputs": [],
   "source": [
    "def emojiname2icon(name):\n",
    "    return emoji.emojize(f\":{name.replace(' ','_')}:\")"
   ]
  },
  {
   "cell_type": "code",
   "execution_count": 3,
   "id": "77903b8c",
   "metadata": {},
   "outputs": [],
   "source": [
    "selected_emoji = [\n",
    "\n",
    "    'face with tears of joy', # funny happy\n",
    "    \n",
    "    'red heart', #love\n",
    "    \n",
    "    'broken heart', #no love\n",
    "    \n",
    "    'thumbs up', #encouragement\n",
    "    \n",
    "    'smiling face with smiling eyes', #happy\n",
    "    \n",
    "    'loudly crying face', #pure sad\n",
    "    \n",
    "    'clapping hands', #congradualation\n",
    "    \n",
    "    'fire', #hot /sexy\n",
    "    \n",
    "    'face screaming in fear', #shock\n",
    "    \n",
    "    'pile of poo', #non-sense, disapproval\n",
    "    \n",
    "    'face with symbols on mouth', #anger\n",
    "    \n",
    "    'eggplant', #horny\n",
    "    \n",
    "    'face savoring food', # craving\n",
    "    \n",
    "    'hundred points', #approval\n",
    "    \n",
    "    'folded hands', #pray\n",
    "\n",
    "]"
   ]
  },
  {
   "cell_type": "code",
   "execution_count": 4,
   "id": "2ad27282",
   "metadata": {},
   "outputs": [],
   "source": [
    "def get_k_scrapped_for_emoji(emoji_list, k):\n",
    "    tweets = []\n",
    "    for emoji_name in emoji_list:\n",
    "        emoji = emojiname2icon(emoji_name)\n",
    "        for j, tweet in tqdm(enumerate(sntwitter.TwitterSearchScraper(f\"{emoji} lang:en\").get_items()), total=k):\n",
    "            data = [\n",
    "                emoji_name,\n",
    "                emoji,\n",
    "                tweet.rawContent,\n",
    "            ]\n",
    "\n",
    "            tweets.append(data)\n",
    "\n",
    "            if j > k:\n",
    "                break\n",
    "    return pd.DataFrame(tweets, columns = ['name','emoji','content'])"
   ]
  },
  {
   "cell_type": "code",
   "execution_count": 5,
   "id": "8913e7fe",
   "metadata": {},
   "outputs": [
    {
     "data": {
      "application/vnd.jupyter.widget-view+json": {
       "model_id": "144af1a2fe0948759c67ca95d8b8128b",
       "version_major": 2,
       "version_minor": 0
      },
      "text/plain": [
       "  0%|          | 0/1 [00:00<?, ?it/s]"
      ]
     },
     "metadata": {},
     "output_type": "display_data"
    },
    {
     "data": {
      "application/vnd.jupyter.widget-view+json": {
       "model_id": "7b2144f3cbc84565ad7a5068c6b57ae6",
       "version_major": 2,
       "version_minor": 0
      },
      "text/plain": [
       "  0%|          | 0/1 [00:00<?, ?it/s]"
      ]
     },
     "metadata": {},
     "output_type": "display_data"
    },
    {
     "data": {
      "application/vnd.jupyter.widget-view+json": {
       "model_id": "d0e5899d84ec4db28843baf69d4776a3",
       "version_major": 2,
       "version_minor": 0
      },
      "text/plain": [
       "  0%|          | 0/1 [00:00<?, ?it/s]"
      ]
     },
     "metadata": {},
     "output_type": "display_data"
    },
    {
     "data": {
      "application/vnd.jupyter.widget-view+json": {
       "model_id": "0c864eeb7f9149ea973be1a7c4c60ca3",
       "version_major": 2,
       "version_minor": 0
      },
      "text/plain": [
       "  0%|          | 0/1 [00:00<?, ?it/s]"
      ]
     },
     "metadata": {},
     "output_type": "display_data"
    },
    {
     "data": {
      "application/vnd.jupyter.widget-view+json": {
       "model_id": "70bf4a606e114ac094e938f0e281a3ad",
       "version_major": 2,
       "version_minor": 0
      },
      "text/plain": [
       "  0%|          | 0/1 [00:00<?, ?it/s]"
      ]
     },
     "metadata": {},
     "output_type": "display_data"
    },
    {
     "data": {
      "application/vnd.jupyter.widget-view+json": {
       "model_id": "cb3938e05ed5476483c055ab73829a0d",
       "version_major": 2,
       "version_minor": 0
      },
      "text/plain": [
       "  0%|          | 0/1 [00:00<?, ?it/s]"
      ]
     },
     "metadata": {},
     "output_type": "display_data"
    },
    {
     "data": {
      "application/vnd.jupyter.widget-view+json": {
       "model_id": "007210df33af4cfaa05500f682d8f3bb",
       "version_major": 2,
       "version_minor": 0
      },
      "text/plain": [
       "  0%|          | 0/1 [00:00<?, ?it/s]"
      ]
     },
     "metadata": {},
     "output_type": "display_data"
    },
    {
     "data": {
      "application/vnd.jupyter.widget-view+json": {
       "model_id": "3da36997636c40228d101bf6eaff15dc",
       "version_major": 2,
       "version_minor": 0
      },
      "text/plain": [
       "  0%|          | 0/1 [00:00<?, ?it/s]"
      ]
     },
     "metadata": {},
     "output_type": "display_data"
    },
    {
     "data": {
      "application/vnd.jupyter.widget-view+json": {
       "model_id": "d50bb2817bfe46869e0c3dbbdf980d88",
       "version_major": 2,
       "version_minor": 0
      },
      "text/plain": [
       "  0%|          | 0/1 [00:00<?, ?it/s]"
      ]
     },
     "metadata": {},
     "output_type": "display_data"
    },
    {
     "data": {
      "application/vnd.jupyter.widget-view+json": {
       "model_id": "9dad0176261244cca96181c7fb7611ac",
       "version_major": 2,
       "version_minor": 0
      },
      "text/plain": [
       "  0%|          | 0/1 [00:00<?, ?it/s]"
      ]
     },
     "metadata": {},
     "output_type": "display_data"
    },
    {
     "data": {
      "application/vnd.jupyter.widget-view+json": {
       "model_id": "0b4bf7a487034e26983d4dfcfc4fc962",
       "version_major": 2,
       "version_minor": 0
      },
      "text/plain": [
       "  0%|          | 0/1 [00:00<?, ?it/s]"
      ]
     },
     "metadata": {},
     "output_type": "display_data"
    },
    {
     "data": {
      "application/vnd.jupyter.widget-view+json": {
       "model_id": "3cd3bf3d538b46008333b817e87124ae",
       "version_major": 2,
       "version_minor": 0
      },
      "text/plain": [
       "  0%|          | 0/1 [00:00<?, ?it/s]"
      ]
     },
     "metadata": {},
     "output_type": "display_data"
    },
    {
     "data": {
      "application/vnd.jupyter.widget-view+json": {
       "model_id": "402561972a364e86bf04cbf29f79d861",
       "version_major": 2,
       "version_minor": 0
      },
      "text/plain": [
       "  0%|          | 0/1 [00:00<?, ?it/s]"
      ]
     },
     "metadata": {},
     "output_type": "display_data"
    },
    {
     "data": {
      "application/vnd.jupyter.widget-view+json": {
       "model_id": "ae6587918b284ca386594e618d9dc02e",
       "version_major": 2,
       "version_minor": 0
      },
      "text/plain": [
       "  0%|          | 0/1 [00:00<?, ?it/s]"
      ]
     },
     "metadata": {},
     "output_type": "display_data"
    },
    {
     "data": {
      "application/vnd.jupyter.widget-view+json": {
       "model_id": "163c6890466f415c822c51e6ec48b620",
       "version_major": 2,
       "version_minor": 0
      },
      "text/plain": [
       "  0%|          | 0/1 [00:00<?, ?it/s]"
      ]
     },
     "metadata": {},
     "output_type": "display_data"
    }
   ],
   "source": [
    "tweets = get_k_scrapped_for_emoji(selected_emoji,1)"
   ]
  },
  {
   "cell_type": "code",
   "execution_count": 6,
   "id": "222275ed",
   "metadata": {},
   "outputs": [],
   "source": [
    "tweets.to_csv('test.csv',index=False)"
   ]
  },
  {
   "cell_type": "code",
   "execution_count": null,
   "id": "facefc96",
   "metadata": {},
   "outputs": [],
   "source": []
  }
 ],
 "metadata": {
  "kernelspec": {
   "display_name": "Python 3 (ipykernel)",
   "language": "python",
   "name": "python3"
  },
  "language_info": {
   "codemirror_mode": {
    "name": "ipython",
    "version": 3
   },
   "file_extension": ".py",
   "mimetype": "text/x-python",
   "name": "python",
   "nbconvert_exporter": "python",
   "pygments_lexer": "ipython3",
   "version": "3.9.7"
  }
 },
 "nbformat": 4,
 "nbformat_minor": 5
}
